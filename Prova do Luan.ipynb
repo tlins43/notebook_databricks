{
 "cells": [
  {
   "cell_type": "code",
   "execution_count": 0,
   "metadata": {
    "application/vnd.databricks.v1+cell": {
     "cellMetadata": {
      "byteLimit": 2048000,
      "rowLimit": 10000
     },
     "inputWidgets": {},
     "nuid": "06c9c047-df1b-49e9-8321-d5d806ccb8d2",
     "showTitle": false,
     "tableResultSettingsMap": {},
     "title": ""
    }
   },
   "outputs": [
    {
     "output_type": "stream",
     "name": "stdout",
     "output_type": "stream",
     "text": [
      "total de linhas: 999054\n"
     ]
    }
   ],
   "source": [
    "df = spark.table(\"dados_covid_2022\").alias(\"dc\")\n",
    "total = df.count()\n",
    "print(f\"total de linhas: {total}\")\n"
   ]
  },
  {
   "cell_type": "code",
   "execution_count": 0,
   "metadata": {
    "application/vnd.databricks.v1+cell": {
     "cellMetadata": {
      "byteLimit": 2048000,
      "rowLimit": 10000
     },
     "inputWidgets": {},
     "nuid": "008ab78f-2c05-47b9-9565-0d09a2359d4a",
     "showTitle": false,
     "tableResultSettingsMap": {},
     "title": ""
    }
   },
   "outputs": [
    {
     "output_type": "stream",
     "name": "stdout",
     "output_type": "stream",
     "text": [
      "schemas = ['ID', 'ORIGEM', 'DT_NOTIFIC', 'DT_NASC', 'IDADE', 'SEXO', 'CS_RACA', 'DT_SIN_PRI', 'SEM_PRI', 'FEBRE', 'TOSSE', 'GARGANTA', 'DISPNEIA', 'DESC_RESP', 'SATURACAO', 'DIARREIA', 'VOMITO', 'DOR_ABD', 'CORIZA', 'CABECA', 'PERD_OLFT', 'PERD_PALA', 'OUTRO_SIN', 'GESTANTE', 'PUERPERA', 'CARDIOPATI', 'HEMATOLOGI', 'SIND_DOWN', 'HEPATICA', 'ASMA', 'DIABETES', 'NEUROLOGIC', 'PNEUMOPATI', 'IMUNODEPRE', 'RENAL', 'OBESIDADE', 'CROMOSSOMO', 'OUT_MORBI', 'HOSPITAL', 'DT_INTERNA', 'CO_UN_INTE', 'NM_UN_INTE', 'SRAG_CLASSI_FIN', 'CLASSI_FIN_COVID', 'CLASSI_FIN_COVID_MOD', 'CRITERIO', 'EVOL_COMUM', 'DT_EVOLUCA', 'SEM_EVOLUCA', 'DT_DIGITA']\nroot\n |-- ID: string (nullable = true)\n |-- ORIGEM: string (nullable = true)\n |-- DT_NOTIFIC: string (nullable = true)\n |-- DT_NASC: string (nullable = true)\n |-- IDADE: string (nullable = true)\n |-- SEXO: string (nullable = true)\n |-- CS_RACA: string (nullable = true)\n |-- DT_SIN_PRI: string (nullable = true)\n |-- SEM_PRI: string (nullable = true)\n |-- FEBRE: string (nullable = true)\n |-- TOSSE: string (nullable = true)\n |-- GARGANTA: string (nullable = true)\n |-- DISPNEIA: string (nullable = true)\n |-- DESC_RESP: string (nullable = true)\n |-- SATURACAO: string (nullable = true)\n |-- DIARREIA: string (nullable = true)\n |-- VOMITO: string (nullable = true)\n |-- DOR_ABD: string (nullable = true)\n |-- CORIZA: string (nullable = true)\n |-- CABECA: string (nullable = true)\n |-- PERD_OLFT: string (nullable = true)\n |-- PERD_PALA: string (nullable = true)\n |-- OUTRO_SIN: string (nullable = true)\n |-- GESTANTE: string (nullable = true)\n |-- PUERPERA: string (nullable = true)\n |-- CARDIOPATI: string (nullable = true)\n |-- HEMATOLOGI: string (nullable = true)\n |-- SIND_DOWN: string (nullable = true)\n |-- HEPATICA: string (nullable = true)\n |-- ASMA: string (nullable = true)\n |-- DIABETES: string (nullable = true)\n |-- NEUROLOGIC: string (nullable = true)\n |-- PNEUMOPATI: string (nullable = true)\n |-- IMUNODEPRE: string (nullable = true)\n |-- RENAL: string (nullable = true)\n |-- OBESIDADE: string (nullable = true)\n |-- CROMOSSOMO: string (nullable = true)\n |-- OUT_MORBI: string (nullable = true)\n |-- HOSPITAL: string (nullable = true)\n |-- DT_INTERNA: string (nullable = true)\n |-- CO_UN_INTE: string (nullable = true)\n |-- NM_UN_INTE: string (nullable = true)\n |-- SRAG_CLASSI_FIN: string (nullable = true)\n |-- CLASSI_FIN_COVID: string (nullable = true)\n |-- CLASSI_FIN_COVID_MOD: string (nullable = true)\n |-- CRITERIO: string (nullable = true)\n |-- EVOL_COMUM: string (nullable = true)\n |-- DT_EVOLUCA: string (nullable = true)\n |-- SEM_EVOLUCA: string (nullable = true)\n |-- DT_DIGITA: string (nullable = true)\n\n"
     ]
    }
   ],
   "source": [
    "print(f\"schemas = {df.columns}\")\n",
    "df.printSchema()"
   ]
  },
  {
   "cell_type": "code",
   "execution_count": 0,
   "metadata": {
    "application/vnd.databricks.v1+cell": {
     "cellMetadata": {
      "byteLimit": 2048000,
      "rowLimit": 10000
     },
     "inputWidgets": {},
     "nuid": "5e443ee1-89f2-48e7-bfc3-6be757736394",
     "showTitle": false,
     "tableResultSettingsMap": {},
     "title": ""
    }
   },
   "outputs": [
    {
     "output_type": "stream",
     "name": "stdout",
     "output_type": "stream",
     "text": [
      "root\n |-- ID: string (nullable = true)\n |-- ORIGEM: string (nullable = true)\n |-- DT_NOTIFIC: string (nullable = true)\n |-- DT_NASC: string (nullable = true)\n |-- IDADE: string (nullable = true)\n |-- sexo: string (nullable = true)\n |-- RACA: string (nullable = true)\n |-- DATA_INICIO_SINT: string (nullable = true)\n |-- SEM_PRI: string (nullable = true)\n |-- teve_febre: string (nullable = true)\n |-- teve_tosse: string (nullable = true)\n |-- GARGANTA: string (nullable = true)\n |-- DISPNEIA: string (nullable = true)\n |-- DESC_RESP: string (nullable = true)\n |-- SATURACAO: string (nullable = true)\n |-- DIARREIA: string (nullable = true)\n |-- VOMITO: string (nullable = true)\n |-- DOR_ABD: string (nullable = true)\n |-- CORIZA: string (nullable = true)\n |-- CABECA: string (nullable = true)\n |-- PERD_OLFT: string (nullable = true)\n |-- PERD_PALA: string (nullable = true)\n |-- OUTRO_SIN: string (nullable = true)\n |-- GESTANTE: string (nullable = true)\n |-- PUERPERA: string (nullable = true)\n |-- CARDIOPATI: string (nullable = true)\n |-- HEMATOLOGI: string (nullable = true)\n |-- SIND_DOWN: string (nullable = true)\n |-- HEPATICA: string (nullable = true)\n |-- ASMA: string (nullable = true)\n |-- DIABETES: string (nullable = true)\n |-- NEUROLOGIC: string (nullable = true)\n |-- PNEUMOPATI: string (nullable = true)\n |-- IMUNODEPRE: string (nullable = true)\n |-- RENAL: string (nullable = true)\n |-- OBESIDADE: string (nullable = true)\n |-- CROMOSSOMO: string (nullable = true)\n |-- OUT_MORBI: string (nullable = true)\n |-- paciente_internado: string (nullable = true)\n |-- DATA_INTERNACAO: string (nullable = true)\n |-- CO_UN_INTE: string (nullable = true)\n |-- NM_UN_INTE: string (nullable = true)\n |-- SRAG_CLASSI_FIN: string (nullable = true)\n |-- CLASSI_FIN_COVID: string (nullable = true)\n |-- CLASSI_FIN_COVID_MOD: string (nullable = true)\n |-- CRITERIO: string (nullable = true)\n |-- EVOL_COMUM: string (nullable = true)\n |-- DATA_EVOLUCAO: string (nullable = true)\n |-- SEM_EVOLUCA: string (nullable = true)\n |-- DT_DIGITA: string (nullable = true)\n\n"
     ]
    }
   ],
   "source": [
    "df_update = df.withColumnsRenamed({\"DT_SIN_PRI\":  \"DATA_INICIO_SINT\", \"DT_INTERNA\": \"DATA_INTERNACAO\", \"DT_EVOLUCA\": \"DATA_EVOLUCAO\", \"FEBRE\":  \"teve_febre\", \"SEXO\": \"sexo\", \"TOSSE\":  \"teve_tosse\", \"HOSPITAL\":  \"paciente_internado\", \"CS_RACA\": \"RACA\"})\n",
    "df_update.printSchema()"
   ]
  },
  {
   "cell_type": "code",
   "execution_count": 0,
   "metadata": {
    "application/vnd.databricks.v1+cell": {
     "cellMetadata": {
      "byteLimit": 2048000,
      "rowLimit": 10000
     },
     "inputWidgets": {},
     "nuid": "0fd62636-231e-4755-9fe9-afd7fb33718a",
     "showTitle": false,
     "tableResultSettingsMap": {},
     "title": ""
    }
   },
   "outputs": [
    {
     "output_type": "stream",
     "name": "stdout",
     "output_type": "stream",
     "text": [
      "+----+----------+------+\n|sexo|teve_febre| count|\n+----+----------+------+\n|   F|       nao|  2450|\n|   F|  ignorado|438097|\n|   F|       sim|179034|\n|   M|  ignorado|248124|\n|   M|       nao|  2164|\n|   M|       sim|129185|\n+----+----------+------+\n\n"
     ]
    }
   ],
   "source": [
    "from pyspark.sql.functions import when\n",
    "\n",
    "df_update_febres = df_update.withColumn(\"teve_febre\", when(df_update[\"teve_febre\"] == 1, \"sim\").when(df_update[\"teve_febre\"] == 2, \"nao\").otherwise(\"ignorado\"))\n",
    "\n",
    "df_update_febres.groupBy([\"sexo\",\"teve_febre\"]).count().sort(\"sexo\").show()"
   ]
  },
  {
   "cell_type": "code",
   "execution_count": 0,
   "metadata": {
    "application/vnd.databricks.v1+cell": {
     "cellMetadata": {
      "byteLimit": 2048000,
      "rowLimit": 10000
     },
     "inputWidgets": {},
     "nuid": "bf594536-5abf-4f09-938e-e2c225c9d514",
     "showTitle": false,
     "tableResultSettingsMap": {},
     "title": ""
    }
   },
   "outputs": [
    {
     "output_type": "stream",
     "name": "stdout",
     "output_type": "stream",
     "text": [
      "+----+----------+------+\n|sexo|teve_tosse| count|\n+----+----------+------+\n|   F|       nao|224614|\n|   F|       sim|394967|\n|   M|       nao|140384|\n|   M|       sim|239089|\n+----+----------+------+\n\n"
     ]
    }
   ],
   "source": [
    "from pyspark.sql.functions import when\n",
    "df_update_tosse = df_update_febres.withColumn(\"teve_tosse\", when(df_update_febres[\"teve_tosse\"] == 1, \"sim\").otherwise(\"nao\"))\n",
    "\n",
    "df_update_tosse.groupBy([\"sexo\",\"teve_tosse\"]).count().sort(\"sexo\").show()"
   ]
  },
  {
   "cell_type": "code",
   "execution_count": 0,
   "metadata": {
    "application/vnd.databricks.v1+cell": {
     "cellMetadata": {
      "byteLimit": 2048000,
      "rowLimit": 10000
     },
     "inputWidgets": {},
     "nuid": "be6cfab9-f4c0-4841-88ac-345dea7c617c",
     "showTitle": false,
     "tableResultSettingsMap": {},
     "title": ""
    }
   },
   "outputs": [
    {
     "output_type": "stream",
     "name": "stdout",
     "output_type": "stream",
     "text": [
      "+----+------------------+------+\n|sexo|paciente_internado| count|\n+----+------------------+------+\n|   F|               nao|611428|\n|   F|               sim|  8153|\n|   M|               nao|371475|\n|   M|               sim|  7998|\n+----+------------------+------+\n\n"
     ]
    }
   ],
   "source": [
    "from pyspark.sql.functions import when\n",
    "\n",
    "df_update_hospital = df_update_tosse.withColumn(\"paciente_internado\", when(df_update_tosse[\"paciente_internado\"] == \"1\", \"sim\").otherwise(\"nao\"))\n",
    "\n",
    "df_update_hospital.groupBy([\"sexo\",\"paciente_internado\"]).count().sort(\"sexo\").show()"
   ]
  },
  {
   "cell_type": "code",
   "execution_count": 0,
   "metadata": {
    "application/vnd.databricks.v1+cell": {
     "cellMetadata": {
      "byteLimit": 2048000,
      "rowLimit": 10000
     },
     "inputWidgets": {},
     "nuid": "3c39bc89-75ba-42cc-88e2-d117d23aafe2",
     "showTitle": false,
     "tableResultSettingsMap": {},
     "title": ""
    }
   },
   "outputs": [
    {
     "output_type": "stream",
     "name": "stdout",
     "output_type": "stream",
     "text": [
      "total de linhas: 16151\n"
     ]
    }
   ],
   "source": [
    "total_paciente = df_update_hospital.filter(\"paciente_internado = 'sim'\").count()\n",
    "\n",
    "print(f\"total de linhas: {total_paciente}\")"
   ]
  },
  {
   "cell_type": "code",
   "execution_count": 0,
   "metadata": {
    "application/vnd.databricks.v1+cell": {
     "cellMetadata": {
      "byteLimit": 2048000,
      "rowLimit": 10000
     },
     "inputWidgets": {},
     "nuid": "7ffc233d-a871-437a-9891-b2b81f514124",
     "showTitle": false,
     "tableResultSettingsMap": {},
     "title": ""
    }
   },
   "outputs": [
    {
     "output_type": "stream",
     "name": "stdout",
     "output_type": "stream",
     "text": [
      "+----+---------------+-------------+-------------+\n|sexo|DATA_INTERNACAO|DATA_EVOLUCAO|dias_evolucao|\n+----+---------------+-------------+-------------+\n|   M|     2022-06-30|   2022-07-03|            3|\n|   M|     2022-06-29|   2022-06-30|            1|\n|   M|     2022-06-15|   2022-06-23|            8|\n|   M|     2022-06-14|   2022-06-22|            8|\n|   F|     2022-06-27|   2022-07-15|           18|\n|   F|     2022-06-29|   2022-07-01|            2|\n|   F|     2022-06-28|   2022-07-16|           18|\n|   F|     2022-06-17|   2022-06-26|            9|\n|   M|     2022-05-23|   2022-06-03|           11|\n|   F|     2022-06-19|   2022-07-08|           19|\n|   F|     2022-05-09|   2022-06-20|           42|\n|   F|     2022-06-18|   2022-06-22|            4|\n|   M|     2022-06-14|   2022-06-19|            5|\n|   F|     2022-06-28|   2022-07-03|            5|\n|   M|     2022-06-19|   2022-06-25|            6|\n|   F|     2022-06-23|   2022-07-01|            8|\n|   F|     2022-06-28|   2022-06-30|            2|\n|   F|     2022-06-11|   2022-06-13|            2|\n|   M|     2022-06-19|   2022-06-22|            3|\n|   F|     2022-06-19|   2022-06-21|            2|\n+----+---------------+-------------+-------------+\nonly showing top 20 rows\n\n"
     ]
    }
   ],
   "source": [
    "\n",
    "from pyspark.sql.functions import datediff\n",
    "\n",
    "df_diff_internacao_evolucao = df_update.select(\"sexo\",\"DATA_INTERNACAO\",\n",
    "\"DATA_EVOLUCAO\", datediff(df_update.DATA_EVOLUCAO, df_update.DATA_INTERNACAO).alias(\"dias_evolucao\"))\n",
    "\n",
    "df_diff_internacao_evolucao.filter(df_update[\"DATA_INTERNACAO\"].isNotNull() & df_update[\"DATA_EVOLUCAO\"].isNotNull()).show()\n"
   ]
  },
  {
   "cell_type": "code",
   "execution_count": 0,
   "metadata": {
    "application/vnd.databricks.v1+cell": {
     "cellMetadata": {
      "byteLimit": 2048000,
      "rowLimit": 10000
     },
     "inputWidgets": {},
     "nuid": "d120a374-9442-4e6b-a0d2-89219206ce4c",
     "showTitle": false,
     "tableResultSettingsMap": {},
     "title": ""
    }
   },
   "outputs": [
    {
     "output_type": "stream",
     "name": "stdout",
     "output_type": "stream",
     "text": [
      "+----+-------------------+\n|sexo|dias_evolucao_maior|\n+----+-------------------+\n|   F|                696|\n|   M|                852|\n+----+-------------------+\n\n"
     ]
    }
   ],
   "source": [
    "\n",
    "from pyspark.sql.functions import max\n",
    "\n",
    "df_diff_internacao_evolucao.groupBy([\"sexo\"]).agg(max(\"dias_evolucao\").alias(\"dias_evolucao_maior\")).show()"
   ]
  },
  {
   "cell_type": "code",
   "execution_count": 0,
   "metadata": {
    "application/vnd.databricks.v1+cell": {
     "cellMetadata": {
      "byteLimit": 2048000,
      "rowLimit": 10000
     },
     "inputWidgets": {},
     "nuid": "d24bd393-ae0d-40f7-bb73-83c082c49dc9",
     "showTitle": false,
     "tableResultSettingsMap": {},
     "title": ""
    }
   },
   "outputs": [
    {
     "output_type": "stream",
     "name": "stdout",
     "output_type": "stream",
     "text": [
      "+----+-------------------+\n|sexo|dias_evolucao_menor|\n+----+-------------------+\n|   F|                  1|\n|   M|                  1|\n+----+-------------------+\n\n"
     ]
    }
   ],
   "source": [
    "from pyspark.sql.functions import min\n",
    "\n",
    "df_evolucao_filter = df_diff_internacao_evolucao.filter(df_diff_internacao_evolucao[\"dias_evolucao\"] > 0)\n",
    "\n",
    "df_evolucao_min = df_evolucao_filter.groupBy([\"sexo\"]).agg(min(\"dias_evolucao\").alias(\"dias_evolucao_menor\")).show()\n",
    "\n"
   ]
  },
  {
   "cell_type": "code",
   "execution_count": 0,
   "metadata": {
    "application/vnd.databricks.v1+cell": {
     "cellMetadata": {
      "byteLimit": 2048000,
      "rowLimit": 10000
     },
     "inputWidgets": {},
     "nuid": "f033261f-7204-4917-b2ff-4a7916720d47",
     "showTitle": false,
     "tableResultSettingsMap": {},
     "title": ""
    }
   },
   "outputs": [
    {
     "output_type": "stream",
     "name": "stdout",
     "output_type": "stream",
     "text": [
      "+--------+----+------+\n|    RACA|sexo| count|\n+--------+----+------+\n|indigena|   M|   161|\n|   preta|   M| 18294|\n|ignorado|   F|179121|\n| amarela|   F| 14055|\n|  branca|   M|117948|\n|indigena|   F|   216|\n|ignorado|   M|111490|\n|   preta|   F| 28095|\n| amarela|   M|  8799|\n|  branca|   F|202608|\n|   parda|   M|122777|\n|   parda|   F|195482|\n+--------+----+------+\n\n"
     ]
    }
   ],
   "source": [
    "from pyspark.sql.functions import when\n",
    "\n",
    "df_update_raca = df_update_hospital.withColumn(\"RACA\", when(df_update_hospital[\"RACA\"] == \"1\", \"branca\").when(df_update_hospital[\"RACA\"] == \"2\", \"preta\").when(df_update_hospital[\"RACA\"] == \"3\", \"amarela\").when(df_update_hospital[\"RACA\"] == \"4\", \"parda\").when(df_update_hospital[\"RACA\"] == \"5\", \"indigena\").when(df_update_hospital[\"RACA\"] == \"9\", \"ignorado\").otherwise(\"NULL\"))\n",
    "\n",
    "df_raca_filter = df_update_raca.filter(df_update_raca[\"RACA\"] != \"NULL\")\n",
    "\n",
    "df_raca_filter.groupBy([\"RACA\",\"sexo\"]).count().show()"
   ]
  },
  {
   "cell_type": "code",
   "execution_count": 0,
   "metadata": {
    "application/vnd.databricks.v1+cell": {
     "cellMetadata": {
      "byteLimit": 2048000,
      "rowLimit": 10000
     },
     "inputWidgets": {},
     "nuid": "d2bb1cb7-8fa6-40a4-8bd0-7aae4ec1723a",
     "showTitle": false,
     "tableResultSettingsMap": {},
     "title": ""
    }
   },
   "outputs": [
    {
     "output_type": "stream",
     "name": "stdout",
     "output_type": "stream",
     "text": [
      "+--------+------+\n|    RACA| count|\n+--------+------+\n|   parda|318259|\n|ignorado|290611|\n| amarela| 22854|\n|  branca|320556|\n|indigena|   377|\n|   preta| 46389|\n+--------+------+\n\n"
     ]
    }
   ],
   "source": [
    "df_raca_filter.groupBy([\"RACA\"]).count().show()"
   ]
  },
  {
   "cell_type": "code",
   "execution_count": 0,
   "metadata": {
    "application/vnd.databricks.v1+cell": {
     "cellMetadata": {
      "byteLimit": 2048000,
      "rowLimit": 10000
     },
     "inputWidgets": {},
     "nuid": "1cb89e81-a184-4809-ab7f-99101ef4d51d",
     "showTitle": false,
     "tableResultSettingsMap": {},
     "title": ""
    }
   },
   "outputs": [
    {
     "output_type": "stream",
     "name": "stdout",
     "output_type": "stream",
     "text": [
      "+--------+\n|ano_refe|\n+--------+\n|    2022|\n|    2022|\n|    2022|\n|    2022|\n|    2022|\n|    2022|\n|    2022|\n|    2022|\n|    2022|\n|    2022|\n|    2022|\n|    2022|\n|    2022|\n|    2022|\n|    2022|\n|    2022|\n|    2022|\n|    2022|\n|    2022|\n|    2022|\n+--------+\nonly showing top 20 rows\n\n"
     ]
    }
   ],
   "source": [
    "from pyspark.sql.functions import lit\n",
    "\n",
    "df_new_colunm = df_raca_filter.withColumn(\"ano_refe\", lit(\"2022\"))\n",
    "df_new_colunm.select(\"ano_refe\").show()"
   ]
  },
  {
   "cell_type": "code",
   "execution_count": 0,
   "metadata": {
    "application/vnd.databricks.v1+cell": {
     "cellMetadata": {
      "byteLimit": 2048000,
      "rowLimit": 10000
     },
     "inputWidgets": {},
     "nuid": "cf240b9b-34dc-402a-a2b2-bd7cd996cc9c",
     "showTitle": false,
     "tableResultSettingsMap": {},
     "title": ""
    }
   },
   "outputs": [],
   "source": [
    "df_new_colunm.write.parquet(\"dbfs:/FileStore/covid/ano_ref=2022/\")"
   ]
  },
  {
   "cell_type": "code",
   "execution_count": 0,
   "metadata": {
    "application/vnd.databricks.v1+cell": {
     "cellMetadata": {
      "byteLimit": 2048000,
      "rowLimit": 10000
     },
     "inputWidgets": {},
     "nuid": "ef4c7eb1-b11a-42dc-a7cf-dcd6f507974d",
     "showTitle": false,
     "tableResultSettingsMap": {},
     "title": ""
    }
   },
   "outputs": [
    {
     "output_type": "execute_result",
     "data": {
      "text/plain": [
       "[FileInfo(path='dbfs:/FileStore/coiv/ano_ref=2022/_SUCCESS', name='_SUCCESS', size=0, modificationTime=1737505751000),\n",
       " FileInfo(path='dbfs:/FileStore/coiv/ano_ref=2022/_committed_3958400291199506185', name='_committed_3958400291199506185', size=824, modificationTime=1737505751000),\n",
       " FileInfo(path='dbfs:/FileStore/coiv/ano_ref=2022/_started_3958400291199506185', name='_started_3958400291199506185', size=0, modificationTime=1737505720000),\n",
       " FileInfo(path='dbfs:/FileStore/coiv/ano_ref=2022/part-00000-tid-3958400291199506185-e963d354-954c-482b-9c96-dfb98e77067c-145-1-c000.snappy.parquet', name='part-00000-tid-3958400291199506185-e963d354-954c-482b-9c96-dfb98e77067c-145-1-c000.snappy.parquet', size=2121526, modificationTime=1737505750000),\n",
       " FileInfo(path='dbfs:/FileStore/coiv/ano_ref=2022/part-00001-tid-3958400291199506185-e963d354-954c-482b-9c96-dfb98e77067c-146-1-c000.snappy.parquet', name='part-00001-tid-3958400291199506185-e963d354-954c-482b-9c96-dfb98e77067c-146-1-c000.snappy.parquet', size=1928287, modificationTime=1737505750000),\n",
       " FileInfo(path='dbfs:/FileStore/coiv/ano_ref=2022/part-00002-tid-3958400291199506185-e963d354-954c-482b-9c96-dfb98e77067c-147-1-c000.snappy.parquet', name='part-00002-tid-3958400291199506185-e963d354-954c-482b-9c96-dfb98e77067c-147-1-c000.snappy.parquet', size=1915944, modificationTime=1737505750000),\n",
       " FileInfo(path='dbfs:/FileStore/coiv/ano_ref=2022/part-00003-tid-3958400291199506185-e963d354-954c-482b-9c96-dfb98e77067c-148-1-c000.snappy.parquet', name='part-00003-tid-3958400291199506185-e963d354-954c-482b-9c96-dfb98e77067c-148-1-c000.snappy.parquet', size=1922128, modificationTime=1737505750000),\n",
       " FileInfo(path='dbfs:/FileStore/coiv/ano_ref=2022/part-00004-tid-3958400291199506185-e963d354-954c-482b-9c96-dfb98e77067c-149-1-c000.snappy.parquet', name='part-00004-tid-3958400291199506185-e963d354-954c-482b-9c96-dfb98e77067c-149-1-c000.snappy.parquet', size=1903124, modificationTime=1737505750000),\n",
       " FileInfo(path='dbfs:/FileStore/coiv/ano_ref=2022/part-00005-tid-3958400291199506185-e963d354-954c-482b-9c96-dfb98e77067c-150-1-c000.snappy.parquet', name='part-00005-tid-3958400291199506185-e963d354-954c-482b-9c96-dfb98e77067c-150-1-c000.snappy.parquet', size=1880323, modificationTime=1737505750000),\n",
       " FileInfo(path='dbfs:/FileStore/coiv/ano_ref=2022/part-00006-tid-3958400291199506185-e963d354-954c-482b-9c96-dfb98e77067c-151-1-c000.snappy.parquet', name='part-00006-tid-3958400291199506185-e963d354-954c-482b-9c96-dfb98e77067c-151-1-c000.snappy.parquet', size=1899394, modificationTime=1737505750000),\n",
       " FileInfo(path='dbfs:/FileStore/coiv/ano_ref=2022/part-00007-tid-3958400291199506185-e963d354-954c-482b-9c96-dfb98e77067c-152-1-c000.snappy.parquet', name='part-00007-tid-3958400291199506185-e963d354-954c-482b-9c96-dfb98e77067c-152-1-c000.snappy.parquet', size=1539181, modificationTime=1737505750000)]"
      ]
     },
     "execution_count": 32,
     "metadata": {},
     "output_type": "execute_result"
    }
   ],
   "source": [
    "dbutils.fs.ls(\"/FileStore/covid/ano_ref=2022/\")"
   ]
  }
 ],
 "metadata": {
  "application/vnd.databricks.v1+notebook": {
   "computePreferences": null,
   "dashboards": [],
   "environmentMetadata": {
    "base_environment": "",
    "client": "1"
   },
   "language": "python",
   "notebookMetadata": {
    "mostRecentlyExecutedCommandWithImplicitDF": {
     "commandId": -1,
     "dataframes": [
      "_sqldf"
     ]
    },
    "pythonIndentUnit": 4
   },
   "notebookName": "Prova do Luan",
   "widgets": {}
  }
 },
 "nbformat": 4,
 "nbformat_minor": 0
}
